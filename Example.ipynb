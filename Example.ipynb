{
 "cells": [
  {
   "cell_type": "code",
   "execution_count": 1,
   "metadata": {
    "collapsed": true
   },
   "outputs": [],
   "source": [
    "import archiveexport as ae"
   ]
  },
  {
   "cell_type": "code",
   "execution_count": 2,
   "metadata": {},
   "outputs": [
    {
     "data": {
      "text/plain": [
       "['ARIDI-VME-BLM1:LOAD',\n",
       " 'ARIDI-VME-BPM10:LOAD',\n",
       " 'ARIDI-VME-BPM11:LOAD',\n",
       " 'ARIDI-VME-BPM12:LOAD',\n",
       " 'ARIDI-VME-BPM1:LOAD',\n",
       " 'ARIDI-VME-BPM2:LOAD',\n",
       " 'ARIDI-VME-BPM3:LOAD',\n",
       " 'ARIDI-VME-BPM4:LOAD',\n",
       " 'ARIDI-VME-BPM5:LOAD',\n",
       " 'ARIDI-VME-BPM6:LOAD',\n",
       " 'ARIDI-VME-BPM7:LOAD',\n",
       " 'ARIDI-VME-BPM8:LOAD',\n",
       " 'ARIDI-VME-BPM9:LOAD',\n",
       " 'ARIDI-VME-C10:LOAD',\n",
       " 'ARIDI-VME-C11:LOAD',\n",
       " 'ARIDI-VME-C12:LOAD',\n",
       " 'ARIDI-VME-C1:LOAD',\n",
       " 'ARIDI-VME-C2:LOAD',\n",
       " 'ARIDI-VME-C3:LOAD',\n",
       " 'ARIDI-VME-C4:LOAD',\n",
       " 'ARIDI-VME-C5:LOAD',\n",
       " 'ARIDI-VME-C6:LOAD',\n",
       " 'ARIDI-VME-C7:LOAD',\n",
       " 'ARIDI-VME-C8:LOAD',\n",
       " 'ARIDI-VME-C9:LOAD',\n",
       " 'ARIDI-VME-MBFS:LOAD',\n",
       " 'ARIDI-VME-MBFX:LOAD',\n",
       " 'ARIDI-VME-MBFY:LOAD',\n",
       " 'ARIDI-VME-OP:LOAD',\n",
       " 'ARIDI-VME-PCT2:LOAD',\n",
       " 'ARIDI-VME-PCT:LOAD',\n",
       " 'ARIDI-VME-TEMP:LOAD']"
      ]
     },
     "execution_count": 2,
     "metadata": {},
     "output_type": "execute_result"
    }
   ],
   "source": [
    "# Need to mount the volume as follows: nfs://slsmcarch-navf:/export/archiver-data-mc\n",
    "ae.list(\"/Volumes/archiver-data-mc/ST/index\", pattern=\"ARIDI.*LOAD\")"
   ]
  },
  {
   "cell_type": "code",
   "execution_count": null,
   "metadata": {
    "collapsed": true
   },
   "outputs": [],
   "source": [
    "data = ae.get_data(\"/Volumes/archiver-data-mc/ST/index\", channel=\"ARIDI-VME-BPM12:LOAD\")"
   ]
  },
  {
   "cell_type": "code",
   "execution_count": 7,
   "metadata": {},
   "outputs": [
    {
     "data": {
      "text/plain": [
       "[886893748, 426927040, 21.671018276762403]"
      ]
     },
     "execution_count": 7,
     "metadata": {},
     "output_type": "execute_result"
    }
   ],
   "source": [
    "# Returned data is a list of entries of the format\n",
    "# [[epics_timestamp_seconds, epics_timestamp_nanoseconds, value], ...]\n",
    "data[0]"
   ]
  },
  {
   "cell_type": "code",
   "execution_count": 9,
   "metadata": {
    "collapsed": true
   },
   "outputs": [],
   "source": [
    "import datetime"
   ]
  },
  {
   "cell_type": "code",
   "execution_count": 26,
   "metadata": {},
   "outputs": [
    {
     "data": {
      "text/plain": [
       "datetime.datetime(2018, 2, 22, 0, 21, 16, 546726)"
      ]
     },
     "execution_count": 26,
     "metadata": {},
     "output_type": "execute_result"
    }
   ],
   "source": [
    "# Last entry in range\n",
    "datetime.datetime.fromtimestamp(data[-1][0]+ 631152000 + data[-1][1]/1000000000) # Convert epics to unix timestamp"
   ]
  },
  {
   "cell_type": "code",
   "execution_count": 27,
   "metadata": {},
   "outputs": [
    {
     "data": {
      "text/plain": [
       "datetime.datetime(2018, 2, 8, 0, 22, 28, 546726)"
      ]
     },
     "execution_count": 27,
     "metadata": {},
     "output_type": "execute_result"
    }
   ],
   "source": [
    "# First entry in range\n",
    "datetime.datetime.fromtimestamp(data[0][0]+ 631152000 + data[-1][1]/1000000000) # Convert epics to unix timestamp"
   ]
  },
  {
   "cell_type": "code",
   "execution_count": null,
   "metadata": {
    "collapsed": true
   },
   "outputs": [],
   "source": []
  }
 ],
 "metadata": {
  "kernelspec": {
   "display_name": "Python 3",
   "language": "python",
   "name": "python3"
  },
  "language_info": {
   "codemirror_mode": {
    "name": "ipython",
    "version": 3
   },
   "file_extension": ".py",
   "mimetype": "text/x-python",
   "name": "python",
   "nbconvert_exporter": "python",
   "pygments_lexer": "ipython3",
   "version": "3.6.3"
  }
 },
 "nbformat": 4,
 "nbformat_minor": 2
}
